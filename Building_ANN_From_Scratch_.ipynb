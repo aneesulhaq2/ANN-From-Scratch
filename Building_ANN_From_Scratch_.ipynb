{
  "cells": [
    {
      "cell_type": "code",
      "execution_count": null,
      "id": "a9256447",
      "metadata": {
        "id": "a9256447"
      },
      "outputs": [],
      "source": [
        "import numpy as np"
      ]
    },
    {
      "cell_type": "markdown",
      "id": "30d27ced",
      "metadata": {
        "id": "30d27ced"
      },
      "source": [
        "Tanh function is a nonlinear function which generates output in the range(-1,1)"
      ]
    },
    {
      "cell_type": "code",
      "execution_count": null,
      "id": "44f1c464",
      "metadata": {
        "id": "44f1c464"
      },
      "outputs": [],
      "source": [
        "numbers = np.arange(-10,10)"
      ]
    },
    {
      "cell_type": "code",
      "execution_count": null,
      "id": "ad13b38f",
      "metadata": {
        "id": "ad13b38f"
      },
      "outputs": [],
      "source": [
        "def tanh_array(x):\n",
        "    \"\"\"tanh activation fnction\"\"\"\n",
        "    return (2/(1+np.exp(-2*x)))-1"
      ]
    },
    {
      "cell_type": "code",
      "execution_count": null,
      "id": "81ad6621",
      "metadata": {
        "id": "81ad6621"
      },
      "outputs": [],
      "source": [
        "def tanh1_array(x):\n",
        "    return np.tanh(x) #tanh function from numpy"
      ]
    },
    {
      "cell_type": "code",
      "execution_count": null,
      "id": "70837c0c",
      "metadata": {
        "id": "70837c0c"
      },
      "outputs": [],
      "source": [
        "tanh = tanh_array(numbers)"
      ]
    },
    {
      "cell_type": "code",
      "execution_count": null,
      "id": "466d0968",
      "metadata": {
        "id": "466d0968"
      },
      "outputs": [],
      "source": [
        "tanh1=tanh1_array(numbers)"
      ]
    },
    {
      "cell_type": "code",
      "execution_count": null,
      "id": "36ee841f",
      "metadata": {
        "id": "36ee841f",
        "outputId": "abfc1476-749d-45f7-bedb-83f9b87e43d0"
      },
      "outputs": [
        {
          "data": {
            "image/png": "[encoded data removed]",
            "text/plain": [
              "<Figure size 432x288 with 1 Axes>"
            ]
          },
          "metadata": {
            "needs_background": "light"
          },
          "output_type": "display_data"
        }
      ],
      "source": [
        "import matplotlib.pyplot as plt\n",
        "fig,ax = plt.subplots()\n",
        "ax.plot(numbers,tanh1)\n",
        "ax.grid(True)\n",
        "plt.show()"
      ]
    },
    {
      "cell_type": "code",
      "execution_count": null,
      "id": "656145d2",
      "metadata": {
        "id": "656145d2",
        "outputId": "900fc3e9-0ac9-4c84-f1f3-b638410d8c79"
      },
      "outputs": [
        {
          "data": {
            "text/plain": [
              "'o'"
            ]
          },
          "execution_count": 11,
          "metadata": {},
          "output_type": "execute_result"
        }
      ],
      "source": [
        "max('codegnan')"
      ]
    },
    {
      "cell_type": "code",
      "execution_count": null,
      "id": "586f60d0",
      "metadata": {
        "id": "586f60d0",
        "outputId": "b10dce47-6929-498b-c24a-dcdecc2c058c"
      },
      "outputs": [
        {
          "data": {
            "text/plain": [
              "'1'"
            ]
          },
          "execution_count": 14,
          "metadata": {},
          "output_type": "execute_result"
        }
      ],
      "source": [
        "min('codegnan145')"
      ]
    },
    {
      "cell_type": "code",
      "execution_count": null,
      "id": "64c923dc",
      "metadata": {
        "id": "64c923dc",
        "outputId": "d1649aaf-a81b-4d52-c08e-d875d8ba3f1b"
      },
      "outputs": [
        {
          "data": {
            "text/plain": [
              "49"
            ]
          },
          "execution_count": 17,
          "metadata": {},
          "output_type": "execute_result"
        }
      ],
      "source": [
        "ord('1')"
      ]
    },
    {
      "cell_type": "code",
      "execution_count": null,
      "id": "5876b636",
      "metadata": {
        "id": "5876b636",
        "outputId": "a10427a4-45a0-46d5-ffab-ad248855d3ff"
      },
      "outputs": [
        {
          "data": {
            "text/plain": [
              "65"
            ]
          },
          "execution_count": 12,
          "metadata": {},
          "output_type": "execute_result"
        }
      ],
      "source": [
        "max([1,4,5,8,2,65])"
      ]
    },
    {
      "cell_type": "code",
      "execution_count": null,
      "id": "6b8000e9",
      "metadata": {
        "id": "6b8000e9",
        "outputId": "b0f3f4ba-0ce2-4c09-939e-2cf7857bee4b"
      },
      "outputs": [
        {
          "data": {
            "text/plain": [
              "5"
            ]
          },
          "execution_count": 13,
          "metadata": {},
          "output_type": "execute_result"
        }
      ],
      "source": [
        "max(1,4,5,)"
      ]
    },
    {
      "cell_type": "markdown",
      "id": "ec450076",
      "metadata": {
        "id": "ec450076"
      },
      "source": [
        "ReLu ->Rectified Linear Unit -->max(0,x)\n",
        "ReLu function gives output 0 for all negative value otherwise same as given number"
      ]
    },
    {
      "cell_type": "code",
      "execution_count": null,
      "id": "3e54497b",
      "metadata": {
        "id": "3e54497b"
      },
      "outputs": [],
      "source": []
    },
    {
      "cell_type": "code",
      "execution_count": null,
      "id": "db615e91",
      "metadata": {
        "id": "db615e91"
      },
      "outputs": [],
      "source": [
        "def relu_array(x):\n",
        "    return np.maximum(0,x)"
      ]
    },
    {
      "cell_type": "code",
      "execution_count": null,
      "id": "9590e5cd",
      "metadata": {
        "id": "9590e5cd",
        "outputId": "faa98bd1-faa5-4b59-924c-f26c425b014e"
      },
      "outputs": [
        {
          "data": {
            "text/plain": [
              "array([0, 0, 0, 0, 0, 0, 0, 0, 0, 0, 0, 1, 2, 3, 4, 5, 6, 7, 8, 9])"
            ]
          },
          "execution_count": 19,
          "metadata": {},
          "output_type": "execute_result"
        }
      ],
      "source": [
        "relu_array(numbers)"
      ]
    },
    {
      "cell_type": "code",
      "execution_count": null,
      "id": "2f57ed6c",
      "metadata": {
        "id": "2f57ed6c"
      },
      "outputs": [],
      "source": [
        "relu = relu_array(numbers)"
      ]
    },
    {
      "cell_type": "code",
      "execution_count": null,
      "id": "a88264ab",
      "metadata": {
        "id": "a88264ab",
        "outputId": "5ca0e77d-628a-4ac6-f548-917189030b20"
      },
      "outputs": [
        {
          "data": {
            "image/png": "[encoded data removed]",
            "text/plain": [
              "<Figure size 432x288 with 1 Axes>"
            ]
          },
          "metadata": {
            "needs_background": "light"
          },
          "output_type": "display_data"
        }
      ],
      "source": [
        "fig,ax = plt.subplots()\n",
        "ax.plot(numbers,relu)\n",
        "ax.grid(True)\n",
        "plt.show()"
      ]
    },
    {
      "cell_type": "markdown",
      "id": "959d6d81",
      "metadata": {
        "id": "959d6d81"
      },
      "source": [
        "ReLu function will activate only those nodes which gives positive output from ReLu.By eliminating negative values,it helps in speed up the process.\n",
        "\n",
        "In Neural networks we need to initialize parameters by some value.We can initialize b to zero but not to w,if we initialize nodes in one layer,it produces same output.So even after weight update,all nodes update by same amount.Hence all hidden units compute the same function.\n",
        "Thus to deal with this limitation,we initialize w with small random values.If we use large values,activation function (sigmoid,tanh)results vanishes gradient (only results extreme values).So learning slows down."
      ]
    },
    {
      "cell_type": "markdown",
      "id": "e3e2c6f2",
      "metadata": {
        "id": "e3e2c6f2"
      },
      "source": [
        "#Building ANN from scratch\n",
        "#Artificial Neural Network Implementation using numpy\n",
        "#ANN with just having 1 input layer and 1 output layer and no hidden layer."
      ]
    },
    {
      "cell_type": "raw",
      "id": "9d96ba3e",
      "metadata": {
        "id": "9d96ba3e"
      },
      "source": [
        "Steps to follow:\n",
        "1. Define independent variables and dependent variable\n",
        "2. Define Hyperparameters\n",
        "3. Define Activation Function and its derivative\n",
        "4. Train the model\n",
        "5. Make predictions"
      ]
    },
    {
      "cell_type": "code",
      "execution_count": null,
      "id": "dd4a2f88",
      "metadata": {
        "id": "dd4a2f88",
        "outputId": "6eac328c-5334-472e-c27b-3be184fd6fa4"
      },
      "outputs": [
        {
          "name": "stdout",
          "output_type": "stream",
          "text": [
            "The Zen of Python, by Tim Peters\n",
            "\n",
            "Beautiful is better than ugly.\n",
            "Explicit is better than implicit.\n",
            "Simple is better than complex.\n",
            "Complex is better than complicated.\n",
            "Flat is better than nested.\n",
            "Sparse is better than dense.\n",
            "Readability counts.\n",
            "Special cases aren't special enough to break the rules.\n",
            "Although practicality beats purity.\n",
            "Errors should never pass silently.\n",
            "Unless explicitly silenced.\n",
            "In the face of ambiguity, refuse the temptation to guess.\n",
            "There should be one-- and preferably only one --obvious way to do it.\n",
            "Although that way may not be obvious at first unless you're Dutch.\n",
            "Now is better than never.\n",
            "Although never is often better than *right* now.\n",
            "If the implementation is hard to explain, it's a bad idea.\n",
            "If the implementation is easy to explain, it may be a good idea.\n",
            "Namespaces are one honking great idea -- let's do more of those!\n"
          ]
        }
      ],
      "source": [
        "import this"
      ]
    },
    {
      "cell_type": "markdown",
      "id": "c42e532e",
      "metadata": {
        "id": "c42e532e"
      },
      "source": [
        " Let’s first create our independent variables or input feature set and the corresponding dependent variable or labels."
      ]
    },
    {
      "cell_type": "code",
      "execution_count": null,
      "id": "b7756082",
      "metadata": {
        "id": "b7756082"
      },
      "outputs": [],
      "source": [
        "#Step:1 -->Defining Independent variables and labels\n",
        "#Independent variables\n",
        "input_set = np.array([[0,1,0],\n",
        "                      [0,0,1],\n",
        "                      [1,0,0],\n",
        "                      [1,1,0],\n",
        "                      [1,1,1],\n",
        "                      [0,1,1],\n",
        "                      [0,1,0]])\n",
        "#Dependent variable\n",
        "labels = np.array([[1,\n",
        "                    0,\n",
        "                    0,\n",
        "                    1,\n",
        "                    1,\n",
        "                    0,\n",
        "                    1]])"
      ]
    },
    {
      "cell_type": "code",
      "execution_count": null,
      "id": "359ffb46",
      "metadata": {
        "id": "359ffb46",
        "outputId": "f8479cfb-1c42-4960-e5ff-0b92de8cf42a"
      },
      "outputs": [
        {
          "data": {
            "text/plain": [
              "(7, 3)"
            ]
          },
          "execution_count": 24,
          "metadata": {},
          "output_type": "execute_result"
        }
      ],
      "source": [
        "input_set.shape"
      ]
    },
    {
      "cell_type": "code",
      "execution_count": null,
      "id": "f361eb1f",
      "metadata": {
        "id": "f361eb1f",
        "outputId": "4720d484-30aa-42e5-e927-5d3b5352066c"
      },
      "outputs": [
        {
          "data": {
            "text/plain": [
              "2"
            ]
          },
          "execution_count": 25,
          "metadata": {},
          "output_type": "execute_result"
        }
      ],
      "source": [
        "input_set.ndim"
      ]
    },
    {
      "cell_type": "code",
      "execution_count": null,
      "id": "16bac167",
      "metadata": {
        "id": "16bac167",
        "outputId": "1e84ecf9-edfe-4f21-c86f-3fceb3c265c3"
      },
      "outputs": [
        {
          "data": {
            "text/plain": [
              "(1, 7)"
            ]
          },
          "execution_count": 30,
          "metadata": {},
          "output_type": "execute_result"
        }
      ],
      "source": [
        "labels.shape\n",
        "#labels.ndim;"
      ]
    },
    {
      "cell_type": "code",
      "execution_count": null,
      "id": "209f12e3",
      "metadata": {
        "id": "209f12e3"
      },
      "outputs": [],
      "source": [
        "labels = labels.reshape(7,1) #to convert labels to vector"
      ]
    },
    {
      "cell_type": "markdown",
      "id": "2ac8df7a",
      "metadata": {
        "id": "2ac8df7a"
      },
      "source": [
        "Our input set contains seven records. Similarly, we also created a labels set that contains corresponding labels for each record in the input set. The labels are the values that we want our ANN to predict."
      ]
    },
    {
      "cell_type": "markdown",
      "id": "46e15882",
      "metadata": {
        "id": "46e15882"
      },
      "source": [
        "we will use the random.seed function of numpy so that we can get the same random values whenever we execute the below code.\n",
        "\n",
        "Next, we initialize our weights with normally distributed random numbers. Since we have three features in the input, we have a vector of three weights. We will then initialize the bias value with another random number. Finally, we set the learning rate to 0.05."
      ]
    },
    {
      "cell_type": "code",
      "execution_count": null,
      "id": "17f1abf2",
      "metadata": {
        "id": "17f1abf2"
      },
      "outputs": [],
      "source": [
        "#Step2:Defining Hyperparameters\n",
        "np.random.seed(42)\n",
        "weights = np.random.rand(3,1)\n",
        "bias = np.random.rand(1)\n",
        "lr = 0.05 #learning rate"
      ]
    },
    {
      "cell_type": "code",
      "execution_count": null,
      "id": "7b280f7b",
      "metadata": {
        "id": "7b280f7b",
        "outputId": "06b1039a-557d-4140-feff-94484c8c470d"
      },
      "outputs": [
        {
          "data": {
            "text/plain": [
              "array([0.59865848])"
            ]
          },
          "execution_count": 34,
          "metadata": {},
          "output_type": "execute_result"
        }
      ],
      "source": [
        "weights;bias"
      ]
    },
    {
      "cell_type": "code",
      "execution_count": null,
      "id": "92a8d496",
      "metadata": {
        "id": "92a8d496"
      },
      "outputs": [],
      "source": []
    }
  ],
  "metadata": {
    "kernelspec": {
      "display_name": "Python 3 (ipykernel)",
      "language": "python",
      "name": "python3"
    },
    "language_info": {
      "codemirror_mode": {
        "name": "ipython",
        "version": 3
      },
      "file_extension": ".py",
      "mimetype": "text/x-python",
      "name": "python",
      "nbconvert_exporter": "python",
      "pygments_lexer": "ipython3",
      "version": "3.7.9"
    },
    "colab": {
      "provenance": []
    }
  },
  "nbformat": 4,
  "nbformat_minor": 5
}